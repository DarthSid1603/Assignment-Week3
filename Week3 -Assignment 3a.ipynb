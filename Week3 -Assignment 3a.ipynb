{
 "cells": [
  {
   "cell_type": "markdown",
   "metadata": {},
   "source": [
    "# Week3- Assignment 3a"
   ]
  },
  {
   "cell_type": "code",
   "execution_count": 145,
   "metadata": {},
   "outputs": [
    {
     "data": {
      "text/html": [
       "<div>\n",
       "<style scoped>\n",
       "    .dataframe tbody tr th:only-of-type {\n",
       "        vertical-align: middle;\n",
       "    }\n",
       "\n",
       "    .dataframe tbody tr th {\n",
       "        vertical-align: top;\n",
       "    }\n",
       "\n",
       "    .dataframe thead th {\n",
       "        text-align: right;\n",
       "    }\n",
       "</style>\n",
       "<table border=\"1\" class=\"dataframe\">\n",
       "  <thead>\n",
       "    <tr style=\"text-align: right;\">\n",
       "      <th></th>\n",
       "      <th>Population</th>\n",
       "      <th>Profit</th>\n",
       "    </tr>\n",
       "  </thead>\n",
       "  <tbody>\n",
       "    <tr>\n",
       "      <th>0</th>\n",
       "      <td>6.1101</td>\n",
       "      <td>17.5920</td>\n",
       "    </tr>\n",
       "    <tr>\n",
       "      <th>1</th>\n",
       "      <td>5.5277</td>\n",
       "      <td>9.1302</td>\n",
       "    </tr>\n",
       "    <tr>\n",
       "      <th>2</th>\n",
       "      <td>8.5186</td>\n",
       "      <td>13.6620</td>\n",
       "    </tr>\n",
       "    <tr>\n",
       "      <th>3</th>\n",
       "      <td>7.0032</td>\n",
       "      <td>11.8540</td>\n",
       "    </tr>\n",
       "    <tr>\n",
       "      <th>4</th>\n",
       "      <td>5.8598</td>\n",
       "      <td>6.8233</td>\n",
       "    </tr>\n",
       "    <tr>\n",
       "      <th>5</th>\n",
       "      <td>8.3829</td>\n",
       "      <td>11.8860</td>\n",
       "    </tr>\n",
       "    <tr>\n",
       "      <th>6</th>\n",
       "      <td>7.4764</td>\n",
       "      <td>4.3483</td>\n",
       "    </tr>\n",
       "    <tr>\n",
       "      <th>7</th>\n",
       "      <td>8.5781</td>\n",
       "      <td>12.0000</td>\n",
       "    </tr>\n",
       "    <tr>\n",
       "      <th>8</th>\n",
       "      <td>6.4862</td>\n",
       "      <td>6.5987</td>\n",
       "    </tr>\n",
       "    <tr>\n",
       "      <th>9</th>\n",
       "      <td>5.0546</td>\n",
       "      <td>3.8166</td>\n",
       "    </tr>\n",
       "  </tbody>\n",
       "</table>\n",
       "</div>"
      ],
      "text/plain": [
       "   Population   Profit\n",
       "0      6.1101  17.5920\n",
       "1      5.5277   9.1302\n",
       "2      8.5186  13.6620\n",
       "3      7.0032  11.8540\n",
       "4      5.8598   6.8233\n",
       "5      8.3829  11.8860\n",
       "6      7.4764   4.3483\n",
       "7      8.5781  12.0000\n",
       "8      6.4862   6.5987\n",
       "9      5.0546   3.8166"
      ]
     },
     "execution_count": 145,
     "metadata": {},
     "output_type": "execute_result"
    }
   ],
   "source": [
    "import pandas as pd\n",
    "from matplotlib import pyplot as plt \n",
    "import pylab as pl\n",
    "import numpy as np\n",
    "df = pd.read_csv(\"data.txt\",delimiter=\",\", header=None)\n",
    "df.columns=['Population','Profit']\n",
    "df.head(10)"
   ]
  },
  {
   "cell_type": "code",
   "execution_count": 146,
   "metadata": {},
   "outputs": [
    {
     "data": {
      "image/png": "[encoded data removed]",
      "text/plain": [
       "<Figure size 432x288 with 1 Axes>"
      ]
     },
     "metadata": {
      "needs_background": "light"
     },
     "output_type": "display_data"
    }
   ],
   "source": [
    "#Plotting the scatter plot of the data\n",
    "\n",
    "%matplotlib inline\n",
    "plt.scatter(df['Population'],df['Profit'])\n",
    "plt.xlabel('Population', fontsize=14)\n",
    "plt.ylabel('Profit', fontsize=14)\n",
    "plt.title('Distribution of Population v/s Profit', fontsize=16)\n",
    "plt.show()"
   ]
  },
  {
   "cell_type": "code",
   "execution_count": 147,
   "metadata": {},
   "outputs": [],
   "source": [
    "# The Cost function\n",
    "def Compute_cost(X, Y, theta):\n",
    "     J=np.dot((np.dot(X,theta) - Y).T,(np.dot(X,theta) - Y))/(2*len(Y))\n",
    "     return J"
   ]
  },
  {
   "cell_type": "code",
   "execution_count": 156,
   "metadata": {},
   "outputs": [],
   "source": [
    "# Grad_desc funtion\n",
    "def Grad_desc(x,y,theta,alpha):\n",
    "    X = np.c_[np.ones(len(x)),x]\n",
    "    Y = np.c_[y]\n",
    "    X_1=np.c_[x].T\n",
    "    for i in range(10_000):\n",
    "        a=np.sum(theta[0]- alpha * (1/len(Y)) * np.sum((np.dot(X,theta)- Y)))\n",
    "        b=np.sum(theta[1] - alpha * (1/len(Y)) * np.sum(np.dot(X_1,(np.dot(X,theta)-Y))))\n",
    "        theta= np.array([[a],[b]])\n",
    "    return theta"
   ]
  },
  {
   "cell_type": "code",
   "execution_count": 157,
   "metadata": {},
   "outputs": [
    {
     "name": "stdout",
     "output_type": "stream",
     "text": [
      "cost = [[908.90372009]]\n",
      "theta =  [[-3.98644013]\n",
      " [ 1.16338795]]\n"
     ]
    },
    {
     "data": {
      "image/png": "[encoded data removed]",
      "text/plain": [
       "<Figure size 432x288 with 1 Axes>"
      ]
     },
     "metadata": {
      "needs_background": "light"
     },
     "output_type": "display_data"
    },
    {
     "name": "stdout",
     "output_type": "stream",
     "text": [
      "new cost =  [[4.50775864]]\n",
      "The predicted value for population of 35,000 is  [40714.59171098]\n",
      "The predicted value for population of 70,000 is  [81433.16986209]\n"
     ]
    }
   ],
   "source": [
    "#Separating the data into training and testing sets\n",
    "msk= np.random.rand(len(df)) <0.80\n",
    "train = df[msk]\n",
    "test = df[~msk]\n",
    "\n",
    "#plotting a scatter plot of the training set\n",
    "plt.scatter(train['Population'],train['Profit'])\n",
    "plt.xlabel('Population', fontsize=14)\n",
    "plt.ylabel('Profit', fontsize=14)\n",
    "plt.title('Distribution of Population v/s Profit', fontsize=16)\n",
    "\n",
    "#calling the cost function\n",
    "theta=np.array([[3.5,5]]).T\n",
    "x=np.c_[np.ones(len(train['Population'])),train['Population']]\n",
    "y=np.c_[train['Profit']]\n",
    "cost=Compute_cost(x,y,theta)\n",
    "print('cost =', cost)\n",
    "\n",
    "#calling the gradient descent function\n",
    "alpha=0.01\n",
    "theta= Grad_desc(train['Population'],train['Profit'],theta,alpha)\n",
    "print('theta = ',theta)\n",
    "\n",
    "#plotting the best fit line\n",
    "plt.plot(train['Population'],theta[0] + theta[1]*train['Population'],'r--')\n",
    "plt.show()\n",
    "\n",
    "cost=Compute_cost(x,y,theta)\n",
    "print('new cost = ',cost)\n",
    "\n",
    "print('The predicted value for population of 35,000 is ',(theta[0] + theta[1]*35000))\n",
    "print('The predicted value for population of 70,000 is ',(theta[0] + theta[1]*70000))"
   ]
  },
  {
   "cell_type": "code",
   "execution_count": 158,
   "metadata": {},
   "outputs": [
    {
     "data": {
      "image/png": "[encoded data removed]",
      "text/plain": [
       "<Figure size 432x288 with 1 Axes>"
      ]
     },
     "metadata": {
      "needs_background": "light"
     },
     "output_type": "display_data"
    },
    {
     "name": "stdout",
     "output_type": "stream",
     "text": [
      "The predicted value for population of 35,000 is  40714.591948589965\n",
      "The predicted value for population of 70,000 is  81433.17033737795\n"
     ]
    }
   ],
   "source": [
    "from sklearn import linear_model as l_mod\n",
    "Lregr = l_mod.LinearRegression()\n",
    "train_x = np.asanyarray(train[['Population']])\n",
    "train_y = np.asanyarray(train[['Profit']])\n",
    "Lregr.fit(train_x, train_y)\n",
    "theta=[Lregr.coef_[0][0],Lregr.intercept_[0]]\n",
    "# print(theta)\n",
    "\n",
    "plt.scatter(train['Population'],train['Profit'])\n",
    "plt.plot(train_x, Lregr.coef_[0][0]*train_x + Lregr.intercept_[0], '-r')\n",
    "plt.xlabel('Population', fontsize=14)\n",
    "plt.ylabel('Profit', fontsize=14)\n",
    "plt.title('Distribution of Population v/s Profit', fontsize=16)\n",
    "plt.show()\n",
    "\n",
    "print('The predicted value for population of 35,000 is ',(theta[1] + theta[0]*35000))\n",
    "print('The predicted value for population of 70,000 is ',(theta[1] + theta[0]*70000))"
   ]
  },
  {
   "cell_type": "markdown",
   "metadata": {},
   "source": [
    "On comparing the predicted values, they are similar for both the methods."
   ]
  }
 ],
 "metadata": {
  "kernelspec": {
   "display_name": "Python 3",
   "language": "python",
   "name": "python3"
  },
  "language_info": {
   "codemirror_mode": {
    "name": "ipython",
    "version": 3
   },
   "file_extension": ".py",
   "mimetype": "text/x-python",
   "name": "python",
   "nbconvert_exporter": "python",
   "pygments_lexer": "ipython3",
   "version": "3.7.3"
  }
 },
 "nbformat": 4,
 "nbformat_minor": 2
}
